{
 "cells": [
  {
   "cell_type": "markdown",
   "metadata": {},
   "source": [
    "# Задание 1"
   ]
  },
  {
   "cell_type": "code",
   "execution_count": 154,
   "metadata": {},
   "outputs": [
    {
     "name": "stdout",
     "output_type": "stream",
     "text": [
      "р\n"
     ]
    }
   ],
   "source": [
    "a = 'три'\n",
    "\n",
    "if len(a)%2 == 0:\n",
    "    b = int(len(a)/2)-1\n",
    "    c = b + 2\n",
    "    print(a[b:c])\n",
    "else:\n",
    "    b = int(len(a)/2)\n",
    "    print(a[b])"
   ]
  },
  {
   "cell_type": "markdown",
   "metadata": {},
   "source": [
    "# Задание 2"
   ]
  },
  {
   "cell_type": "code",
   "execution_count": 155,
   "metadata": {},
   "outputs": [
    {
     "name": "stdout",
     "output_type": "stream",
     "text": [
      "Введите число: 2\n",
      "Введите число: 4\n",
      "Введите число: 1\n",
      "Введите число: 7\n",
      "Введите число: 4\n",
      "Введите число: 0\n",
      "Результат: 18\n",
      "Введите число: 12\n",
      "Введите число: 0\n",
      "Результат: 12\n",
      "Введите число: 20\n"
     ]
    }
   ],
   "source": [
    "a = 0 \n",
    "b = 0 \n",
    "# просто поставил, чтобы цикл работал не все время, можно поставить while 1=1\n",
    "while b<20:\n",
    "    a = int(input('Введите число: '))\n",
    "    if a != 0:\n",
    "        b+=a\n",
    "    elif a == 0:\n",
    "        print('Результат: ' + str(b))\n",
    "        b = 0\n",
    "    else:\n",
    "        print('Что-то пошло не так')\n",
    "        \n",
    "\n",
    "\n",
    "         "
   ]
  },
  {
   "cell_type": "markdown",
   "metadata": {},
   "source": [
    "# Задание 3"
   ]
  },
  {
   "cell_type": "code",
   "execution_count": 156,
   "metadata": {},
   "outputs": [
    {
     "name": "stdout",
     "output_type": "stream",
     "text": [
      "Идеальные пары: \n",
      "Alex и Emma\n",
      "Arthur и Kate\n",
      "John и Kira\n",
      "Peter и Liza\n",
      "Richard и Trisha\n"
     ]
    }
   ],
   "source": [
    "boys = ['Peter', 'Alex', 'John', 'Arthur', 'Richard']\n",
    "girls = ['Kate', 'Liza', 'Kira', 'Emma', 'Trisha']\n",
    "boys_and_girls = zip(sorted(boys),sorted(girls))\n",
    "a = list(boys_and_girls)\n",
    "\n",
    "\n",
    "if len(boys)==len(girls):\n",
    "    print('Идеальные пары: ')\n",
    "    for row in a:\n",
    "        print(f'{row[0]} и {row[1]}')\n",
    "\n",
    "else:\n",
    "    print('Упс, кто-то может остаться без пары!')\n",
    "    \n",
    "\n",
    "\n"
   ]
  },
  {
   "cell_type": "markdown",
   "metadata": {},
   "source": [
    "# Задание 4"
   ]
  },
  {
   "cell_type": "code",
   "execution_count": 157,
   "metadata": {},
   "outputs": [
    {
     "name": "stdout",
     "output_type": "stream",
     "text": [
      "Thailand - 23.86 C\n",
      "Germany - 13.8 C\n",
      "Russia - 3.72 C\n",
      "Poland - 12.0 C\n"
     ]
    }
   ],
   "source": [
    "countries_temperature = [\n",
    "['Thailand', [75.2, 77, 78.8, 73.4, 68, 75.2, 77]],\n",
    "['Germany', [57.2, 55.4, 59, 59, 53.6]],\n",
    "['Russia', [35.6, 37.4, 39.2, 41, 42.8, 39.2, 35.6]],\n",
    "['Poland', [50, 50, 53.6, 57.2, 55.4, 55.4]]\n",
    "]\n",
    "\n",
    "\n",
    "x = 0 \n",
    "for i in countries_temperature:\n",
    "    a = round((sum(countries_temperature[x][1])/len(countries_temperature[x][1])),2)\n",
    "    b = round((5/9)*(a-32),2)\n",
    "    \n",
    "    c = countries_temperature[x][0]\n",
    "    \n",
    "    \n",
    "    print(f'{c} - {b} C')\n",
    "    x+=1\n",
    "    \n",
    "\n",
    "\n"
   ]
  },
  {
   "cell_type": "markdown",
   "metadata": {},
   "source": [
    "# Задание 5"
   ]
  },
  {
   "cell_type": "code",
   "execution_count": 151,
   "metadata": {},
   "outputs": [
    {
     "name": "stdout",
     "output_type": "stream",
     "text": [
      "Общее вермя = 93\n",
      "Кол-во уникальных пользователей = 4\n",
      "Среднее количество просмотров на уникального пользователя: 23.25\n"
     ]
    }
   ],
   "source": [
    "stream = [\n",
    "'2018-01-01,user1,3',\n",
    "'2018-01-07,user1,4',\n",
    "'2018-03-29,user1,1',\n",
    "'2018-04-04,user1,13',\n",
    "'2018-01-05,user2,7',\n",
    "'2018-06-14,user3,4',\n",
    "'2018-07-02,user3,10',\n",
    "'2018-03-21,user4,19',\n",
    "'2018-03-22,user4,4',\n",
    "'2018-04-22,user4,8',\n",
    "'2018-05-03,user4,9',\n",
    "'2018-05-11,user4,11',\n",
    "]\n",
    "\n",
    "row = 0 \n",
    "sum_time = 0 \n",
    "qnt = 0\n",
    "\n",
    "# преобразовали логи в список\n",
    "new_list = []\n",
    "for i in stream:\n",
    "    base_for_new_list = i.split(',')\n",
    "    new_list.append(base_for_new_list)\n",
    "\n",
    "# расчитали сумму\n",
    "for m in new_list:\n",
    "        sum_time += int(m[2])\n",
    "print(f'Общее вермя = {sum_time}')\n",
    "\n",
    "\n",
    "# создаем список для из уникальных пользователей\n",
    "new_qnt_user = []\n",
    "for i in new_list:\n",
    "    if i[1] not in new_qnt_user:\n",
    "        new_qnt_user.append(i[1])\n",
    "    else:\n",
    "        pass\n",
    "    qnt = len(new_qnt_user)\n",
    "print(f'Кол-во уникальных пользователей = {qnt}')\n",
    "\n",
    "\n",
    "# расчитываем среднее время\n",
    "avg_time_for_uniq_user = round(sum_time/qnt,2)\n",
    "\n",
    "print(f'Среднее количество просмотров на уникального пользователя: {avg_time_for_uniq_user}')"
   ]
  }
 ],
 "metadata": {
  "kernelspec": {
   "display_name": "Python 3",
   "language": "python",
   "name": "python3"
  },
  "language_info": {
   "codemirror_mode": {
    "name": "ipython",
    "version": 3
   },
   "file_extension": ".py",
   "mimetype": "text/x-python",
   "name": "python",
   "nbconvert_exporter": "python",
   "pygments_lexer": "ipython3",
   "version": "3.7.6"
  }
 },
 "nbformat": 4,
 "nbformat_minor": 4
}
